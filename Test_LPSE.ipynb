{
 "cells": [
  {
   "cell_type": "code",
   "execution_count": 1,
   "id": "a472140c",
   "metadata": {},
   "outputs": [],
   "source": [
    "import pandas as pd"
   ]
  },
  {
   "cell_type": "markdown",
   "id": "e7862a4c",
   "metadata": {},
   "source": [
    "# Title Page"
   ]
  },
  {
   "cell_type": "code",
   "execution_count": 2,
   "id": "7b8351f1",
   "metadata": {},
   "outputs": [],
   "source": [
    "df_title = pd.read_html('https://lpse.atrbpn.go.id/eproc4')"
   ]
  },
  {
   "cell_type": "code",
   "execution_count": 3,
   "id": "e6f39c13",
   "metadata": {},
   "outputs": [
    {
     "data": {
      "text/html": [
       "<div>\n",
       "<style scoped>\n",
       "    .dataframe tbody tr th:only-of-type {\n",
       "        vertical-align: middle;\n",
       "    }\n",
       "\n",
       "    .dataframe tbody tr th {\n",
       "        vertical-align: top;\n",
       "    }\n",
       "\n",
       "    .dataframe thead th {\n",
       "        text-align: right;\n",
       "    }\n",
       "</style>\n",
       "<table border=\"1\" class=\"dataframe\">\n",
       "  <thead>\n",
       "    <tr style=\"text-align: right;\">\n",
       "      <th></th>\n",
       "      <th>No</th>\n",
       "      <th>Nama Paket</th>\n",
       "      <th>HPS</th>\n",
       "      <th>Akhir Pendaftaran</th>\n",
       "    </tr>\n",
       "  </thead>\n",
       "  <tbody>\n",
       "    <tr>\n",
       "      <th>0</th>\n",
       "      <td>Pengadaan Barang0</td>\n",
       "      <td>Pengadaan Barang0</td>\n",
       "      <td>Pengadaan Barang0</td>\n",
       "      <td>Pengadaan Barang0</td>\n",
       "    </tr>\n",
       "    <tr>\n",
       "      <th>1</th>\n",
       "      <td>Jasa Konsultansi Badan Usaha Non Konstruksi4</td>\n",
       "      <td>Jasa Konsultansi Badan Usaha Non Konstruksi4</td>\n",
       "      <td>Jasa Konsultansi Badan Usaha Non Konstruksi4</td>\n",
       "      <td>Jasa Konsultansi Badan Usaha Non Konstruksi4</td>\n",
       "    </tr>\n",
       "    <tr>\n",
       "      <th>2</th>\n",
       "      <td>1</td>\n",
       "      <td>Assesment, Pendampingan dan Sertifikasi DC sps...</td>\n",
       "      <td>Rp. 1.068.902.595,77</td>\n",
       "      <td>24 Agustus 2022 12:00</td>\n",
       "    </tr>\n",
       "    <tr>\n",
       "      <th>3</th>\n",
       "      <td>2</td>\n",
       "      <td>Modernisasi Sistem Informasi Perundangan spse ...</td>\n",
       "      <td>Rp. 263.224.284,45</td>\n",
       "      <td>1 September 2022 12:00</td>\n",
       "    </tr>\n",
       "    <tr>\n",
       "      <th>4</th>\n",
       "      <td>3</td>\n",
       "      <td>Pengembangan Aplikasi Mobile spse 4.5 Seleksi</td>\n",
       "      <td>Rp. 429.223.000,00</td>\n",
       "      <td>25 Agustus 2022 12:00</td>\n",
       "    </tr>\n",
       "  </tbody>\n",
       "</table>\n",
       "</div>"
      ],
      "text/plain": [
       "                                             No  \\\n",
       "0                             Pengadaan Barang0   \n",
       "1  Jasa Konsultansi Badan Usaha Non Konstruksi4   \n",
       "2                                             1   \n",
       "3                                             2   \n",
       "4                                             3   \n",
       "\n",
       "                                          Nama Paket  \\\n",
       "0                                  Pengadaan Barang0   \n",
       "1       Jasa Konsultansi Badan Usaha Non Konstruksi4   \n",
       "2  Assesment, Pendampingan dan Sertifikasi DC sps...   \n",
       "3  Modernisasi Sistem Informasi Perundangan spse ...   \n",
       "4      Pengembangan Aplikasi Mobile spse 4.5 Seleksi   \n",
       "\n",
       "                                            HPS  \\\n",
       "0                             Pengadaan Barang0   \n",
       "1  Jasa Konsultansi Badan Usaha Non Konstruksi4   \n",
       "2                          Rp. 1.068.902.595,77   \n",
       "3                            Rp. 263.224.284,45   \n",
       "4                            Rp. 429.223.000,00   \n",
       "\n",
       "                              Akhir Pendaftaran  \n",
       "0                             Pengadaan Barang0  \n",
       "1  Jasa Konsultansi Badan Usaha Non Konstruksi4  \n",
       "2                         24 Agustus 2022 12:00  \n",
       "3                        1 September 2022 12:00  \n",
       "4                         25 Agustus 2022 12:00  "
      ]
     },
     "execution_count": 3,
     "metadata": {},
     "output_type": "execute_result"
    }
   ],
   "source": [
    "df_title[0].head()"
   ]
  },
  {
   "cell_type": "code",
   "execution_count": 4,
   "id": "ed1a6a07",
   "metadata": {
    "scrolled": true
   },
   "outputs": [
    {
     "data": {
      "text/html": [
       "<div>\n",
       "<style scoped>\n",
       "    .dataframe tbody tr th:only-of-type {\n",
       "        vertical-align: middle;\n",
       "    }\n",
       "\n",
       "    .dataframe tbody tr th {\n",
       "        vertical-align: top;\n",
       "    }\n",
       "\n",
       "    .dataframe thead th {\n",
       "        text-align: right;\n",
       "    }\n",
       "</style>\n",
       "<table border=\"1\" class=\"dataframe\">\n",
       "  <thead>\n",
       "    <tr style=\"text-align: right;\">\n",
       "      <th></th>\n",
       "      <th>No</th>\n",
       "      <th>Nama Paket</th>\n",
       "      <th>HPS</th>\n",
       "      <th>Akhir Pendaftaran</th>\n",
       "    </tr>\n",
       "  </thead>\n",
       "  <tbody>\n",
       "    <tr>\n",
       "      <th>0</th>\n",
       "      <td>Pengadaan Barang1</td>\n",
       "      <td>Pengadaan Barang1</td>\n",
       "      <td>Pengadaan Barang1</td>\n",
       "      <td>Pengadaan Barang1</td>\n",
       "    </tr>\n",
       "    <tr>\n",
       "      <th>1</th>\n",
       "      <td>1</td>\n",
       "      <td>(k) Paket Pengadaan Alat Tulis Kantor dan Baha...</td>\n",
       "      <td>Rp. 81.108.200,00</td>\n",
       "      <td>23 Agustus 2022 10:00</td>\n",
       "    </tr>\n",
       "    <tr>\n",
       "      <th>2</th>\n",
       "      <td>Jasa Konsultansi Badan Usaha Non Konstruksi3</td>\n",
       "      <td>Jasa Konsultansi Badan Usaha Non Konstruksi3</td>\n",
       "      <td>Jasa Konsultansi Badan Usaha Non Konstruksi3</td>\n",
       "      <td>Jasa Konsultansi Badan Usaha Non Konstruksi3</td>\n",
       "    </tr>\n",
       "    <tr>\n",
       "      <th>3</th>\n",
       "      <td>1</td>\n",
       "      <td>Pembuatan Aplikasi Manajemen Kearsipan Di Ling...</td>\n",
       "      <td>Rp. 80.000.000,00</td>\n",
       "      <td>24 Agustus 2022 16:00</td>\n",
       "    </tr>\n",
       "    <tr>\n",
       "      <th>4</th>\n",
       "      <td>2</td>\n",
       "      <td>Perencanaan Gedung Arsip Kantor Pertanahan Kab...</td>\n",
       "      <td>Rp. 30.415.110,00</td>\n",
       "      <td>20 Agustus 2022 17:00</td>\n",
       "    </tr>\n",
       "  </tbody>\n",
       "</table>\n",
       "</div>"
      ],
      "text/plain": [
       "                                             No  \\\n",
       "0                             Pengadaan Barang1   \n",
       "1                                             1   \n",
       "2  Jasa Konsultansi Badan Usaha Non Konstruksi3   \n",
       "3                                             1   \n",
       "4                                             2   \n",
       "\n",
       "                                          Nama Paket  \\\n",
       "0                                  Pengadaan Barang1   \n",
       "1  (k) Paket Pengadaan Alat Tulis Kantor dan Baha...   \n",
       "2       Jasa Konsultansi Badan Usaha Non Konstruksi3   \n",
       "3  Pembuatan Aplikasi Manajemen Kearsipan Di Ling...   \n",
       "4  Perencanaan Gedung Arsip Kantor Pertanahan Kab...   \n",
       "\n",
       "                                            HPS  \\\n",
       "0                             Pengadaan Barang1   \n",
       "1                             Rp. 81.108.200,00   \n",
       "2  Jasa Konsultansi Badan Usaha Non Konstruksi3   \n",
       "3                             Rp. 80.000.000,00   \n",
       "4                             Rp. 30.415.110,00   \n",
       "\n",
       "                              Akhir Pendaftaran  \n",
       "0                             Pengadaan Barang1  \n",
       "1                         23 Agustus 2022 10:00  \n",
       "2  Jasa Konsultansi Badan Usaha Non Konstruksi3  \n",
       "3                         24 Agustus 2022 16:00  \n",
       "4                         20 Agustus 2022 17:00  "
      ]
     },
     "execution_count": 4,
     "metadata": {},
     "output_type": "execute_result"
    }
   ],
   "source": [
    "df_title[1].head()"
   ]
  },
  {
   "cell_type": "markdown",
   "id": "2ae4d235",
   "metadata": {},
   "source": [
    "# Tender/Lelang Page"
   ]
  },
  {
   "cell_type": "code",
   "execution_count": 5,
   "id": "f57dc565",
   "metadata": {},
   "outputs": [],
   "source": [
    "from selenium import webdriver\n",
    "from selenium.webdriver.chrome.service import Service\n",
    "from selenium.webdriver.chrome.options import Options"
   ]
  },
  {
   "cell_type": "code",
   "execution_count": 6,
   "id": "81f11a83",
   "metadata": {},
   "outputs": [],
   "source": [
    "website_lelang = \"https://lpse.atrbpn.go.id/eproc4/lelang\""
   ]
  },
  {
   "cell_type": "code",
   "execution_count": 7,
   "id": "16b93691",
   "metadata": {},
   "outputs": [],
   "source": [
    "import os"
   ]
  },
  {
   "cell_type": "code",
   "execution_count": 8,
   "id": "4ee5da8b",
   "metadata": {},
   "outputs": [],
   "source": [
    "path = \".\\chromedriver\"\n",
    "options = Options()\n",
    "options.headless = True\n",
    "service = Service(executable_path = path)\n",
    "driver = webdriver.Chrome(service = service, options = options)"
   ]
  },
  {
   "cell_type": "code",
   "execution_count": 9,
   "id": "cb2f5d5f",
   "metadata": {},
   "outputs": [],
   "source": [
    "driver.get(website_lelang)"
   ]
  },
  {
   "cell_type": "code",
   "execution_count": 10,
   "id": "742cfc60",
   "metadata": {},
   "outputs": [],
   "source": [
    "from time import sleep"
   ]
  },
  {
   "cell_type": "code",
   "execution_count": 11,
   "id": "1c4cf006",
   "metadata": {},
   "outputs": [],
   "source": [
    "sleep(2)"
   ]
  },
  {
   "cell_type": "code",
   "execution_count": 12,
   "id": "8ed6be55",
   "metadata": {},
   "outputs": [],
   "source": [
    "from selenium.webdriver.support.ui import Select\n",
    "from selenium.webdriver.common.by import By"
   ]
  },
  {
   "cell_type": "code",
   "execution_count": 13,
   "id": "1092fc7b",
   "metadata": {},
   "outputs": [],
   "source": [
    "select = Select(driver.find_element(By.NAME, 'tbllelang_length'))\n",
    "select.select_by_visible_text('Semua')"
   ]
  },
  {
   "cell_type": "code",
   "execution_count": 14,
   "id": "8613bd5f",
   "metadata": {},
   "outputs": [],
   "source": [
    "sleep(10)"
   ]
  },
  {
   "cell_type": "code",
   "execution_count": 15,
   "id": "0b067415",
   "metadata": {},
   "outputs": [],
   "source": [
    "df_lelang = pd.read_html(driver.page_source, attrs = {'id': 'tbllelang'})[0]"
   ]
  },
  {
   "cell_type": "code",
   "execution_count": 16,
   "id": "21c7e654",
   "metadata": {},
   "outputs": [
    {
     "data": {
      "text/html": [
       "<div>\n",
       "<style scoped>\n",
       "    .dataframe tbody tr th:only-of-type {\n",
       "        vertical-align: middle;\n",
       "    }\n",
       "\n",
       "    .dataframe tbody tr th {\n",
       "        vertical-align: top;\n",
       "    }\n",
       "\n",
       "    .dataframe thead th {\n",
       "        text-align: right;\n",
       "    }\n",
       "</style>\n",
       "<table border=\"1\" class=\"dataframe\">\n",
       "  <thead>\n",
       "    <tr style=\"text-align: right;\">\n",
       "      <th></th>\n",
       "      <th>Kode</th>\n",
       "      <th>Nama Paket</th>\n",
       "      <th>K/L/PD</th>\n",
       "      <th>Tahapan</th>\n",
       "      <th>HPS</th>\n",
       "    </tr>\n",
       "  </thead>\n",
       "  <tbody>\n",
       "    <tr>\n",
       "      <th>0</th>\n",
       "      <td>92795065</td>\n",
       "      <td>Pengembangan Aplikasi Mitra PPAT spse 4.5 Jasa...</td>\n",
       "      <td>Kementerian Agraria dan Tata Ruang/BPN</td>\n",
       "      <td>Evaluasi Dokumen Kualifikasi [...]</td>\n",
       "      <td>585,9 Jt</td>\n",
       "    </tr>\n",
       "    <tr>\n",
       "      <th>1</th>\n",
       "      <td>92794065</td>\n",
       "      <td>Automation Verification Tender Ulang spse 4.5 ...</td>\n",
       "      <td>Kementerian Agraria dan Tata Ruang/BPN</td>\n",
       "      <td>Tender Sudah Selesai</td>\n",
       "      <td>1,6 M</td>\n",
       "    </tr>\n",
       "    <tr>\n",
       "      <th>2</th>\n",
       "      <td>92793065</td>\n",
       "      <td>DESAIN HASIL IP4T spse 4.5 Jasa Konsultansi Ba...</td>\n",
       "      <td>Kementerian Agraria dan Tata Ruang/BPN</td>\n",
       "      <td>Evaluasi Dokumen Kualifikasi</td>\n",
       "      <td>159,1 Jt</td>\n",
       "    </tr>\n",
       "    <tr>\n",
       "      <th>3</th>\n",
       "      <td>92789065</td>\n",
       "      <td>Assesment, Pendampingan dan Sertifikasi DC sps...</td>\n",
       "      <td>Kementerian Agraria dan Tata Ruang/BPN</td>\n",
       "      <td>Kirim Persyaratan Kualifikasi</td>\n",
       "      <td>1,1 M</td>\n",
       "    </tr>\n",
       "    <tr>\n",
       "      <th>4</th>\n",
       "      <td>92788065</td>\n",
       "      <td>Renovasi Gedung Direktorat Jenderal Pengendali...</td>\n",
       "      <td>Kementerian Agraria dan Tata Ruang/BPN</td>\n",
       "      <td>Tender Sudah Selesai</td>\n",
       "      <td>2 M</td>\n",
       "    </tr>\n",
       "    <tr>\n",
       "      <th>...</th>\n",
       "      <td>...</td>\n",
       "      <td>...</td>\n",
       "      <td>...</td>\n",
       "      <td>...</td>\n",
       "      <td>...</td>\n",
       "    </tr>\n",
       "    <tr>\n",
       "      <th>4976</th>\n",
       "      <td>6065</td>\n",
       "      <td>Pengadaan Kendaraan Roda-4 LARASITA (Modifikas...</td>\n",
       "      <td>BPN-RI</td>\n",
       "      <td>Tender Sudah Selesai</td>\n",
       "      <td>53,8 M</td>\n",
       "    </tr>\n",
       "    <tr>\n",
       "      <th>4977</th>\n",
       "      <td>5065</td>\n",
       "      <td>Pengembangan dan Pembangunan Infrastruktur IT ...</td>\n",
       "      <td>BPN-RI</td>\n",
       "      <td>Tender Sudah Selesai</td>\n",
       "      <td>39,5 M</td>\n",
       "    </tr>\n",
       "    <tr>\n",
       "      <th>4978</th>\n",
       "      <td>4065</td>\n",
       "      <td>Sewa Peralatan Pendukung Pelatihan System Admi...</td>\n",
       "      <td>BPN-RI</td>\n",
       "      <td>Tender Gagal</td>\n",
       "      <td>757 Jt</td>\n",
       "    </tr>\n",
       "    <tr>\n",
       "      <th>4979</th>\n",
       "      <td>3065</td>\n",
       "      <td>Pengadaan Kendaraan Roda-4 LARASITA (Modifikas...</td>\n",
       "      <td>BPN-RI</td>\n",
       "      <td>Tender Gagal</td>\n",
       "      <td>53,8 M</td>\n",
       "    </tr>\n",
       "    <tr>\n",
       "      <th>4980</th>\n",
       "      <td>2065</td>\n",
       "      <td>Pengembangan dan Pembangunan Infrastruktur IT ...</td>\n",
       "      <td>BPN-RI</td>\n",
       "      <td>Tender Gagal</td>\n",
       "      <td>39,5 M</td>\n",
       "    </tr>\n",
       "  </tbody>\n",
       "</table>\n",
       "<p>4981 rows × 5 columns</p>\n",
       "</div>"
      ],
      "text/plain": [
       "          Kode                                         Nama Paket  \\\n",
       "0     92795065  Pengembangan Aplikasi Mitra PPAT spse 4.5 Jasa...   \n",
       "1     92794065  Automation Verification Tender Ulang spse 4.5 ...   \n",
       "2     92793065  DESAIN HASIL IP4T spse 4.5 Jasa Konsultansi Ba...   \n",
       "3     92789065  Assesment, Pendampingan dan Sertifikasi DC sps...   \n",
       "4     92788065  Renovasi Gedung Direktorat Jenderal Pengendali...   \n",
       "...        ...                                                ...   \n",
       "4976      6065  Pengadaan Kendaraan Roda-4 LARASITA (Modifikas...   \n",
       "4977      5065  Pengembangan dan Pembangunan Infrastruktur IT ...   \n",
       "4978      4065  Sewa Peralatan Pendukung Pelatihan System Admi...   \n",
       "4979      3065  Pengadaan Kendaraan Roda-4 LARASITA (Modifikas...   \n",
       "4980      2065  Pengembangan dan Pembangunan Infrastruktur IT ...   \n",
       "\n",
       "                                      K/L/PD  \\\n",
       "0     Kementerian Agraria dan Tata Ruang/BPN   \n",
       "1     Kementerian Agraria dan Tata Ruang/BPN   \n",
       "2     Kementerian Agraria dan Tata Ruang/BPN   \n",
       "3     Kementerian Agraria dan Tata Ruang/BPN   \n",
       "4     Kementerian Agraria dan Tata Ruang/BPN   \n",
       "...                                      ...   \n",
       "4976                                  BPN-RI   \n",
       "4977                                  BPN-RI   \n",
       "4978                                  BPN-RI   \n",
       "4979                                  BPN-RI   \n",
       "4980                                  BPN-RI   \n",
       "\n",
       "                                 Tahapan       HPS  \n",
       "0     Evaluasi Dokumen Kualifikasi [...]  585,9 Jt  \n",
       "1                   Tender Sudah Selesai     1,6 M  \n",
       "2           Evaluasi Dokumen Kualifikasi  159,1 Jt  \n",
       "3          Kirim Persyaratan Kualifikasi     1,1 M  \n",
       "4                   Tender Sudah Selesai       2 M  \n",
       "...                                  ...       ...  \n",
       "4976                Tender Sudah Selesai    53,8 M  \n",
       "4977                Tender Sudah Selesai    39,5 M  \n",
       "4978                        Tender Gagal    757 Jt  \n",
       "4979                        Tender Gagal    53,8 M  \n",
       "4980                        Tender Gagal    39,5 M  \n",
       "\n",
       "[4981 rows x 5 columns]"
      ]
     },
     "execution_count": 16,
     "metadata": {},
     "output_type": "execute_result"
    }
   ],
   "source": [
    "df_lelang"
   ]
  },
  {
   "cell_type": "code",
   "execution_count": 17,
   "id": "a1ddfb0b",
   "metadata": {},
   "outputs": [],
   "source": [
    "from datetime import datetime\n",
    "import sys"
   ]
  },
  {
   "cell_type": "code",
   "execution_count": 18,
   "id": "e5e9e1ec",
   "metadata": {},
   "outputs": [],
   "source": [
    "application_path = os.getcwd()"
   ]
  },
  {
   "cell_type": "code",
   "execution_count": 19,
   "id": "8becfeb5",
   "metadata": {},
   "outputs": [],
   "source": [
    "now = datetime.now()\n",
    "day_month_year = now.strftime(\"%d-%m-%Y\")\n",
    "file_name = f'Lelang_{day_month_year}.csv'\n",
    "final_path = os.path.join(application_path, file_name)"
   ]
  },
  {
   "cell_type": "code",
   "execution_count": 20,
   "id": "b16ee27e",
   "metadata": {},
   "outputs": [],
   "source": [
    "df_lelang.to_csv(final_path)"
   ]
  },
  {
   "cell_type": "markdown",
   "id": "632a2f4b",
   "metadata": {},
   "source": [
    "# NonTender Page"
   ]
  },
  {
   "cell_type": "code",
   "execution_count": 21,
   "id": "a5a9e938",
   "metadata": {},
   "outputs": [],
   "source": [
    "website_nontender = \"https://lpse.atrbpn.go.id/eproc4/nontender\""
   ]
  },
  {
   "cell_type": "code",
   "execution_count": 22,
   "id": "c2816453",
   "metadata": {},
   "outputs": [],
   "source": [
    "driver.get(website_nontender)"
   ]
  },
  {
   "cell_type": "code",
   "execution_count": 23,
   "id": "1a5c8d66",
   "metadata": {},
   "outputs": [],
   "source": [
    "sleep(2)"
   ]
  },
  {
   "cell_type": "code",
   "execution_count": 24,
   "id": "c2b6b136",
   "metadata": {},
   "outputs": [],
   "source": [
    "select = Select(driver.find_element(By.NAME, 'tbllelang_length'))\n",
    "select.select_by_visible_text('Semua')"
   ]
  },
  {
   "cell_type": "code",
   "execution_count": 25,
   "id": "fd864373",
   "metadata": {},
   "outputs": [],
   "source": [
    "sleep(10)"
   ]
  },
  {
   "cell_type": "code",
   "execution_count": 26,
   "id": "e1cc53bd",
   "metadata": {},
   "outputs": [],
   "source": [
    "df_nontender = pd.read_html(driver.page_source, attrs = {'id': 'tbllelang'})[0]"
   ]
  },
  {
   "cell_type": "code",
   "execution_count": 27,
   "id": "9759ce8f",
   "metadata": {},
   "outputs": [
    {
     "data": {
      "text/html": [
       "<div>\n",
       "<style scoped>\n",
       "    .dataframe tbody tr th:only-of-type {\n",
       "        vertical-align: middle;\n",
       "    }\n",
       "\n",
       "    .dataframe tbody tr th {\n",
       "        vertical-align: top;\n",
       "    }\n",
       "\n",
       "    .dataframe thead th {\n",
       "        text-align: right;\n",
       "    }\n",
       "</style>\n",
       "<table border=\"1\" class=\"dataframe\">\n",
       "  <thead>\n",
       "    <tr style=\"text-align: right;\">\n",
       "      <th></th>\n",
       "      <th>Kode</th>\n",
       "      <th>Nama Paket</th>\n",
       "      <th>K/L/PD</th>\n",
       "      <th>Tahapan</th>\n",
       "      <th>HPS</th>\n",
       "    </tr>\n",
       "  </thead>\n",
       "  <tbody>\n",
       "    <tr>\n",
       "      <th>0</th>\n",
       "      <td>94334065</td>\n",
       "      <td>Pengadaan Belanja Barang Persediaan Barang Kon...</td>\n",
       "      <td>Kementerian Agraria dan Tata Ruang/BPN</td>\n",
       "      <td>Paket Sudah Selesai</td>\n",
       "      <td>192 Jt</td>\n",
       "    </tr>\n",
       "    <tr>\n",
       "      <th>1</th>\n",
       "      <td>94329065</td>\n",
       "      <td>Pengadaan ATK Pemeriksaan Tanah (Stopmap PTSL)...</td>\n",
       "      <td>Kementerian Agraria dan Tata Ruang/BPN</td>\n",
       "      <td>Paket Sudah Selesai</td>\n",
       "      <td>173,9 Jt</td>\n",
       "    </tr>\n",
       "    <tr>\n",
       "      <th>2</th>\n",
       "      <td>94328065</td>\n",
       "      <td>Pengadaan ATK Penerbitan SK Hak/Pengesahan Dat...</td>\n",
       "      <td>Kementerian Agraria dan Tata Ruang/BPN</td>\n",
       "      <td>Paket Sudah Selesai</td>\n",
       "      <td>89,7 Jt</td>\n",
       "    </tr>\n",
       "    <tr>\n",
       "      <th>3</th>\n",
       "      <td>94327065</td>\n",
       "      <td>Pembuatan Map Kegiatan Pengumpulan Data SHAT P...</td>\n",
       "      <td>Kementerian Agraria dan Tata Ruang/BPN</td>\n",
       "      <td>Paket Sudah Selesai</td>\n",
       "      <td>67,3 Jt</td>\n",
       "    </tr>\n",
       "    <tr>\n",
       "      <th>4</th>\n",
       "      <td>94325065</td>\n",
       "      <td>Belanja Barang Operasional Penanganan Pandemi ...</td>\n",
       "      <td>Kementerian Agraria dan Tata Ruang/BPN</td>\n",
       "      <td>Paket Sudah Selesai</td>\n",
       "      <td>70 Jt</td>\n",
       "    </tr>\n",
       "    <tr>\n",
       "      <th>...</th>\n",
       "      <td>...</td>\n",
       "      <td>...</td>\n",
       "      <td>...</td>\n",
       "      <td>...</td>\n",
       "      <td>...</td>\n",
       "    </tr>\n",
       "    <tr>\n",
       "      <th>1455</th>\n",
       "      <td>3083065</td>\n",
       "      <td>Belanja Barang Persediaan Barang Konsumsi Peng...</td>\n",
       "      <td>Kementerian Agraria dan Tata Ruang/BPN</td>\n",
       "      <td>Paket Sudah Selesai</td>\n",
       "      <td>162,2 Jt</td>\n",
       "    </tr>\n",
       "    <tr>\n",
       "      <th>1456</th>\n",
       "      <td>3082065</td>\n",
       "      <td>Belanja Barang Persediaan Barang Konsumsi Peng...</td>\n",
       "      <td>Kementerian Agraria dan Tata Ruang/BPN</td>\n",
       "      <td>Paket Dibatalkan</td>\n",
       "      <td>162,2 Jt</td>\n",
       "    </tr>\n",
       "    <tr>\n",
       "      <th>1457</th>\n",
       "      <td>3079065</td>\n",
       "      <td>Belanja Barang Persediaan Barang Konsumsi Peng...</td>\n",
       "      <td>Kementerian Agraria dan Tata Ruang/BPN</td>\n",
       "      <td>Paket Dibatalkan</td>\n",
       "      <td>162,2 Jt</td>\n",
       "    </tr>\n",
       "    <tr>\n",
       "      <th>1458</th>\n",
       "      <td>3077065</td>\n",
       "      <td>Belanja Barang Persediaan Barang Konsumsi Peng...</td>\n",
       "      <td>Kementerian Agraria dan Tata Ruang/BPN</td>\n",
       "      <td>Paket Dibatalkan</td>\n",
       "      <td>100 Jt</td>\n",
       "    </tr>\n",
       "    <tr>\n",
       "      <th>1459</th>\n",
       "      <td>3075065</td>\n",
       "      <td>Belanja Bahan Pengadaan Langsung Batal spse 4P...</td>\n",
       "      <td>Kementerian Agraria dan Tata Ruang/BPN</td>\n",
       "      <td>Paket Dibatalkan</td>\n",
       "      <td>92,5 Jt</td>\n",
       "    </tr>\n",
       "  </tbody>\n",
       "</table>\n",
       "<p>1460 rows × 5 columns</p>\n",
       "</div>"
      ],
      "text/plain": [
       "          Kode                                         Nama Paket  \\\n",
       "0     94334065  Pengadaan Belanja Barang Persediaan Barang Kon...   \n",
       "1     94329065  Pengadaan ATK Pemeriksaan Tanah (Stopmap PTSL)...   \n",
       "2     94328065  Pengadaan ATK Penerbitan SK Hak/Pengesahan Dat...   \n",
       "3     94327065  Pembuatan Map Kegiatan Pengumpulan Data SHAT P...   \n",
       "4     94325065  Belanja Barang Operasional Penanganan Pandemi ...   \n",
       "...        ...                                                ...   \n",
       "1455   3083065  Belanja Barang Persediaan Barang Konsumsi Peng...   \n",
       "1456   3082065  Belanja Barang Persediaan Barang Konsumsi Peng...   \n",
       "1457   3079065  Belanja Barang Persediaan Barang Konsumsi Peng...   \n",
       "1458   3077065  Belanja Barang Persediaan Barang Konsumsi Peng...   \n",
       "1459   3075065  Belanja Bahan Pengadaan Langsung Batal spse 4P...   \n",
       "\n",
       "                                      K/L/PD              Tahapan       HPS  \n",
       "0     Kementerian Agraria dan Tata Ruang/BPN  Paket Sudah Selesai    192 Jt  \n",
       "1     Kementerian Agraria dan Tata Ruang/BPN  Paket Sudah Selesai  173,9 Jt  \n",
       "2     Kementerian Agraria dan Tata Ruang/BPN  Paket Sudah Selesai   89,7 Jt  \n",
       "3     Kementerian Agraria dan Tata Ruang/BPN  Paket Sudah Selesai   67,3 Jt  \n",
       "4     Kementerian Agraria dan Tata Ruang/BPN  Paket Sudah Selesai     70 Jt  \n",
       "...                                      ...                  ...       ...  \n",
       "1455  Kementerian Agraria dan Tata Ruang/BPN  Paket Sudah Selesai  162,2 Jt  \n",
       "1456  Kementerian Agraria dan Tata Ruang/BPN     Paket Dibatalkan  162,2 Jt  \n",
       "1457  Kementerian Agraria dan Tata Ruang/BPN     Paket Dibatalkan  162,2 Jt  \n",
       "1458  Kementerian Agraria dan Tata Ruang/BPN     Paket Dibatalkan    100 Jt  \n",
       "1459  Kementerian Agraria dan Tata Ruang/BPN     Paket Dibatalkan   92,5 Jt  \n",
       "\n",
       "[1460 rows x 5 columns]"
      ]
     },
     "execution_count": 27,
     "metadata": {},
     "output_type": "execute_result"
    }
   ],
   "source": [
    "df_nontender"
   ]
  },
  {
   "cell_type": "code",
   "execution_count": 28,
   "id": "978ef384",
   "metadata": {},
   "outputs": [],
   "source": [
    "file_name = f'NonTender_{day_month_year}.csv'\n",
    "final_path = os.path.join(application_path, file_name)"
   ]
  },
  {
   "cell_type": "code",
   "execution_count": 29,
   "id": "3287a986",
   "metadata": {},
   "outputs": [],
   "source": [
    "df_nontender.to_csv(final_path)"
   ]
  },
  {
   "cell_type": "markdown",
   "id": "c0b2ca56",
   "metadata": {},
   "source": [
    "# Pencatatan NonTender"
   ]
  },
  {
   "cell_type": "code",
   "execution_count": 30,
   "id": "14a4e8b6",
   "metadata": {},
   "outputs": [],
   "source": [
    "website_pencatatannontender = \"https://lpse.atrbpn.go.id/eproc4/pencatatan\""
   ]
  },
  {
   "cell_type": "code",
   "execution_count": 31,
   "id": "c457dda1",
   "metadata": {},
   "outputs": [],
   "source": [
    "driver.get(website_pencatatannontender)"
   ]
  },
  {
   "cell_type": "code",
   "execution_count": 32,
   "id": "7712b8f1",
   "metadata": {},
   "outputs": [],
   "source": [
    "sleep(2)"
   ]
  },
  {
   "cell_type": "code",
   "execution_count": 33,
   "id": "08ac2821",
   "metadata": {},
   "outputs": [],
   "source": [
    "select = Select(driver.find_element(By.NAME, 'tbllelang_length'))\n",
    "select.select_by_visible_text('Semua')"
   ]
  },
  {
   "cell_type": "code",
   "execution_count": 34,
   "id": "d386286c",
   "metadata": {},
   "outputs": [],
   "source": [
    "sleep(10)"
   ]
  },
  {
   "cell_type": "code",
   "execution_count": 35,
   "id": "f73a06ec",
   "metadata": {},
   "outputs": [],
   "source": [
    "df_pencatatannontender = pd.read_html(driver.page_source, attrs = {'id': 'tbllelang'})[0]"
   ]
  },
  {
   "cell_type": "code",
   "execution_count": 36,
   "id": "3f35f90a",
   "metadata": {},
   "outputs": [
    {
     "data": {
      "text/html": [
       "<div>\n",
       "<style scoped>\n",
       "    .dataframe tbody tr th:only-of-type {\n",
       "        vertical-align: middle;\n",
       "    }\n",
       "\n",
       "    .dataframe tbody tr th {\n",
       "        vertical-align: top;\n",
       "    }\n",
       "\n",
       "    .dataframe thead th {\n",
       "        text-align: right;\n",
       "    }\n",
       "</style>\n",
       "<table border=\"1\" class=\"dataframe\">\n",
       "  <thead>\n",
       "    <tr style=\"text-align: right;\">\n",
       "      <th></th>\n",
       "      <th>Kode Paket</th>\n",
       "      <th>Nama Paket</th>\n",
       "      <th>K/L/PD</th>\n",
       "      <th>Pagu</th>\n",
       "    </tr>\n",
       "  </thead>\n",
       "  <tbody>\n",
       "    <tr>\n",
       "      <th>0</th>\n",
       "      <td>272139065</td>\n",
       "      <td>Pengadaan ATK Kegiatan Pengkajian Kasus Sengke...</td>\n",
       "      <td>Kementerian Agraria dan Tata Ruang/BPN</td>\n",
       "      <td>2,9 Jt</td>\n",
       "    </tr>\n",
       "    <tr>\n",
       "      <th>1</th>\n",
       "      <td>272138065</td>\n",
       "      <td>Pengadaan ATK Puldatan PBT PTSL PM dan Pihak K...</td>\n",
       "      <td>Kementerian Agraria dan Tata Ruang/BPN</td>\n",
       "      <td>125 Jt</td>\n",
       "    </tr>\n",
       "    <tr>\n",
       "      <th>2</th>\n",
       "      <td>272137065</td>\n",
       "      <td>Belanja Bahan kegiatan Penyuluhan PTSL Tahun 2...</td>\n",
       "      <td>Kementerian Agraria dan Tata Ruang/BPN</td>\n",
       "      <td>89,1 Jt</td>\n",
       "    </tr>\n",
       "    <tr>\n",
       "      <th>3</th>\n",
       "      <td>272136065</td>\n",
       "      <td>Pengadaan Keperluan Rumah Tangga dan ATK Kanto...</td>\n",
       "      <td>Kementerian Agraria dan Tata Ruang/BPN</td>\n",
       "      <td>62,6 Jt</td>\n",
       "    </tr>\n",
       "    <tr>\n",
       "      <th>4</th>\n",
       "      <td>272135065</td>\n",
       "      <td>Belanja Bahan Kegiatan Pembangunan Zona Integr...</td>\n",
       "      <td>Kementerian Agraria dan Tata Ruang/BPN</td>\n",
       "      <td>56,3 Jt</td>\n",
       "    </tr>\n",
       "    <tr>\n",
       "      <th>...</th>\n",
       "      <td>...</td>\n",
       "      <td>...</td>\n",
       "      <td>...</td>\n",
       "      <td>...</td>\n",
       "    </tr>\n",
       "    <tr>\n",
       "      <th>1594</th>\n",
       "      <td>30065</td>\n",
       "      <td>- Konsumsi Penyuluhan Pengadaan Langsung spse ...</td>\n",
       "      <td>Kementerian Agraria dan Tata Ruang/BPN</td>\n",
       "      <td>450 Jt</td>\n",
       "    </tr>\n",
       "    <tr>\n",
       "      <th>1595</th>\n",
       "      <td>15065</td>\n",
       "      <td>Perencanaan Pembangunan dan Renovasi Gedung da...</td>\n",
       "      <td>Kementerian Agraria dan Tata Ruang/BPN</td>\n",
       "      <td>96,5 Jt</td>\n",
       "    </tr>\n",
       "    <tr>\n",
       "      <th>1596</th>\n",
       "      <td>11065</td>\n",
       "      <td>Belanja Barang Persediaan Barang Konsumsi Peng...</td>\n",
       "      <td>Kementerian Agraria dan Tata Ruang/BPN</td>\n",
       "      <td>16 Jt</td>\n",
       "    </tr>\n",
       "    <tr>\n",
       "      <th>1597</th>\n",
       "      <td>10065</td>\n",
       "      <td>- Pengadaan Internet Tahun 2019 Penunjukan Lan...</td>\n",
       "      <td>Kementerian Agraria dan Tata Ruang/BPN</td>\n",
       "      <td>382,8 Jt</td>\n",
       "    </tr>\n",
       "    <tr>\n",
       "      <th>1598</th>\n",
       "      <td>7065</td>\n",
       "      <td>Paket Meeting Fullday Bimbingan Teknis Penyusu...</td>\n",
       "      <td>Kementerian Agraria dan Tata Ruang/BPN</td>\n",
       "      <td>105 Jt</td>\n",
       "    </tr>\n",
       "  </tbody>\n",
       "</table>\n",
       "<p>1599 rows × 4 columns</p>\n",
       "</div>"
      ],
      "text/plain": [
       "      Kode Paket                                         Nama Paket  \\\n",
       "0      272139065  Pengadaan ATK Kegiatan Pengkajian Kasus Sengke...   \n",
       "1      272138065  Pengadaan ATK Puldatan PBT PTSL PM dan Pihak K...   \n",
       "2      272137065  Belanja Bahan kegiatan Penyuluhan PTSL Tahun 2...   \n",
       "3      272136065  Pengadaan Keperluan Rumah Tangga dan ATK Kanto...   \n",
       "4      272135065  Belanja Bahan Kegiatan Pembangunan Zona Integr...   \n",
       "...          ...                                                ...   \n",
       "1594       30065  - Konsumsi Penyuluhan Pengadaan Langsung spse ...   \n",
       "1595       15065  Perencanaan Pembangunan dan Renovasi Gedung da...   \n",
       "1596       11065  Belanja Barang Persediaan Barang Konsumsi Peng...   \n",
       "1597       10065  - Pengadaan Internet Tahun 2019 Penunjukan Lan...   \n",
       "1598        7065  Paket Meeting Fullday Bimbingan Teknis Penyusu...   \n",
       "\n",
       "                                      K/L/PD      Pagu  \n",
       "0     Kementerian Agraria dan Tata Ruang/BPN    2,9 Jt  \n",
       "1     Kementerian Agraria dan Tata Ruang/BPN    125 Jt  \n",
       "2     Kementerian Agraria dan Tata Ruang/BPN   89,1 Jt  \n",
       "3     Kementerian Agraria dan Tata Ruang/BPN   62,6 Jt  \n",
       "4     Kementerian Agraria dan Tata Ruang/BPN   56,3 Jt  \n",
       "...                                      ...       ...  \n",
       "1594  Kementerian Agraria dan Tata Ruang/BPN    450 Jt  \n",
       "1595  Kementerian Agraria dan Tata Ruang/BPN   96,5 Jt  \n",
       "1596  Kementerian Agraria dan Tata Ruang/BPN     16 Jt  \n",
       "1597  Kementerian Agraria dan Tata Ruang/BPN  382,8 Jt  \n",
       "1598  Kementerian Agraria dan Tata Ruang/BPN    105 Jt  \n",
       "\n",
       "[1599 rows x 4 columns]"
      ]
     },
     "execution_count": 36,
     "metadata": {},
     "output_type": "execute_result"
    }
   ],
   "source": [
    "df_pencatatannontender"
   ]
  },
  {
   "cell_type": "code",
   "execution_count": 37,
   "id": "fa9ab8a2",
   "metadata": {},
   "outputs": [],
   "source": [
    "file_name = f'PencatatanNonTender_{day_month_year}.csv'\n",
    "final_path = os.path.join(application_path, file_name)"
   ]
  },
  {
   "cell_type": "code",
   "execution_count": 38,
   "id": "320ae739",
   "metadata": {},
   "outputs": [],
   "source": [
    "df_pencatatannontender.to_csv(final_path)"
   ]
  },
  {
   "cell_type": "markdown",
   "id": "1842e9a9",
   "metadata": {},
   "source": [
    "# Swakelola "
   ]
  },
  {
   "cell_type": "code",
   "execution_count": 39,
   "id": "dc1eb120",
   "metadata": {},
   "outputs": [],
   "source": [
    "website_swakelola = \"https://lpse.atrbpn.go.id/eproc4/swakelola\""
   ]
  },
  {
   "cell_type": "code",
   "execution_count": 40,
   "id": "4fc3efa1",
   "metadata": {},
   "outputs": [],
   "source": [
    "driver.get(website_swakelola)"
   ]
  },
  {
   "cell_type": "code",
   "execution_count": 41,
   "id": "3f7135c1",
   "metadata": {},
   "outputs": [],
   "source": [
    "sleep(2)"
   ]
  },
  {
   "cell_type": "code",
   "execution_count": 42,
   "id": "01ed41ad",
   "metadata": {},
   "outputs": [],
   "source": [
    "select = Select(driver.find_element(By.NAME, 'tblswakelola_length'))\n",
    "select.select_by_visible_text('Semua')"
   ]
  },
  {
   "cell_type": "code",
   "execution_count": 43,
   "id": "fd3d6e26",
   "metadata": {},
   "outputs": [],
   "source": [
    "sleep(10)"
   ]
  },
  {
   "cell_type": "code",
   "execution_count": 44,
   "id": "ed68f74e",
   "metadata": {},
   "outputs": [],
   "source": [
    "df_pencatatannontender = pd.read_html(driver.page_source, attrs = {'id': 'tblswakelola'})[0]"
   ]
  },
  {
   "cell_type": "code",
   "execution_count": 45,
   "id": "1b6075d7",
   "metadata": {},
   "outputs": [
    {
     "data": {
      "text/html": [
       "<div>\n",
       "<style scoped>\n",
       "    .dataframe tbody tr th:only-of-type {\n",
       "        vertical-align: middle;\n",
       "    }\n",
       "\n",
       "    .dataframe tbody tr th {\n",
       "        vertical-align: top;\n",
       "    }\n",
       "\n",
       "    .dataframe thead th {\n",
       "        text-align: right;\n",
       "    }\n",
       "</style>\n",
       "<table border=\"1\" class=\"dataframe\">\n",
       "  <thead>\n",
       "    <tr style=\"text-align: right;\">\n",
       "      <th></th>\n",
       "      <th>Kode Paket</th>\n",
       "      <th>Nama Paket</th>\n",
       "      <th>K/L/PD</th>\n",
       "      <th>Pagu</th>\n",
       "    </tr>\n",
       "  </thead>\n",
       "  <tbody>\n",
       "    <tr>\n",
       "      <th>0</th>\n",
       "      <td>11614065</td>\n",
       "      <td>Gaji dan Tunjangan Swakelola spse 4.5TA - 2022</td>\n",
       "      <td>Kementerian Agraria dan Tata Ruang/BPN</td>\n",
       "      <td>2,5 M</td>\n",
       "    </tr>\n",
       "    <tr>\n",
       "      <th>1</th>\n",
       "      <td>11613065</td>\n",
       "      <td>Gaji dan Tunjangan Swakelola spse 4.5TA - 2022</td>\n",
       "      <td>Kementerian Agraria dan Tata Ruang/BPN</td>\n",
       "      <td>2,5 M</td>\n",
       "    </tr>\n",
       "    <tr>\n",
       "      <th>2</th>\n",
       "      <td>11612065</td>\n",
       "      <td>Gaji dan Tunjangan Swakelola spse 4.5TA - 2022</td>\n",
       "      <td>Kementerian Agraria dan Tata Ruang/BPN</td>\n",
       "      <td>2,5 M</td>\n",
       "    </tr>\n",
       "    <tr>\n",
       "      <th>3</th>\n",
       "      <td>11611065</td>\n",
       "      <td>Gaji dan Tunjangan Swakelola spse 4.5TA - 2022</td>\n",
       "      <td>Kementerian Agraria dan Tata Ruang/BPN</td>\n",
       "      <td>2,5 M</td>\n",
       "    </tr>\n",
       "    <tr>\n",
       "      <th>4</th>\n",
       "      <td>11610065</td>\n",
       "      <td>Gaji dan Tunjangan Swakelola spse 4.5TA - 2022</td>\n",
       "      <td>Kementerian Agraria dan Tata Ruang/BPN</td>\n",
       "      <td>2,5 M</td>\n",
       "    </tr>\n",
       "    <tr>\n",
       "      <th>...</th>\n",
       "      <td>...</td>\n",
       "      <td>...</td>\n",
       "      <td>...</td>\n",
       "      <td>...</td>\n",
       "    </tr>\n",
       "    <tr>\n",
       "      <th>456</th>\n",
       "      <td>25065</td>\n",
       "      <td>- 5 Honorarium Staf Pengelola (pagu dana di at...</td>\n",
       "      <td>Kementerian Agraria dan Tata Ruang/BPN</td>\n",
       "      <td>23 Jt</td>\n",
       "    </tr>\n",
       "    <tr>\n",
       "      <th>457</th>\n",
       "      <td>24065</td>\n",
       "      <td>- 4 Honorarium Bendahara Pengeluaran (pagu dan...</td>\n",
       "      <td>Kementerian Agraria dan Tata Ruang/BPN</td>\n",
       "      <td>10,3 Jt</td>\n",
       "    </tr>\n",
       "    <tr>\n",
       "      <th>458</th>\n",
       "      <td>23065</td>\n",
       "      <td>- 3 Honorarium Pejabat Penguji Tagihan Penanda...</td>\n",
       "      <td>Kementerian Agraria dan Tata Ruang/BPN</td>\n",
       "      <td>11,9 Jt</td>\n",
       "    </tr>\n",
       "    <tr>\n",
       "      <th>459</th>\n",
       "      <td>22065</td>\n",
       "      <td>- 2 Honorarium Pejabat Kuasa Pengguna Anggaran...</td>\n",
       "      <td>Kementerian Agraria dan Tata Ruang/BPN</td>\n",
       "      <td>31,1 Jt</td>\n",
       "    </tr>\n",
       "    <tr>\n",
       "      <th>460</th>\n",
       "      <td>10065</td>\n",
       "      <td>- Narasumber Penyuluhan PTSL Kategori 5 [2 ORG...</td>\n",
       "      <td>Kementerian Agraria dan Tata Ruang/BPN</td>\n",
       "      <td>64 Jt</td>\n",
       "    </tr>\n",
       "  </tbody>\n",
       "</table>\n",
       "<p>461 rows × 4 columns</p>\n",
       "</div>"
      ],
      "text/plain": [
       "     Kode Paket                                         Nama Paket  \\\n",
       "0      11614065     Gaji dan Tunjangan Swakelola spse 4.5TA - 2022   \n",
       "1      11613065     Gaji dan Tunjangan Swakelola spse 4.5TA - 2022   \n",
       "2      11612065     Gaji dan Tunjangan Swakelola spse 4.5TA - 2022   \n",
       "3      11611065     Gaji dan Tunjangan Swakelola spse 4.5TA - 2022   \n",
       "4      11610065     Gaji dan Tunjangan Swakelola spse 4.5TA - 2022   \n",
       "..          ...                                                ...   \n",
       "456       25065  - 5 Honorarium Staf Pengelola (pagu dana di at...   \n",
       "457       24065  - 4 Honorarium Bendahara Pengeluaran (pagu dan...   \n",
       "458       23065  - 3 Honorarium Pejabat Penguji Tagihan Penanda...   \n",
       "459       22065  - 2 Honorarium Pejabat Kuasa Pengguna Anggaran...   \n",
       "460       10065  - Narasumber Penyuluhan PTSL Kategori 5 [2 ORG...   \n",
       "\n",
       "                                     K/L/PD     Pagu  \n",
       "0    Kementerian Agraria dan Tata Ruang/BPN    2,5 M  \n",
       "1    Kementerian Agraria dan Tata Ruang/BPN    2,5 M  \n",
       "2    Kementerian Agraria dan Tata Ruang/BPN    2,5 M  \n",
       "3    Kementerian Agraria dan Tata Ruang/BPN    2,5 M  \n",
       "4    Kementerian Agraria dan Tata Ruang/BPN    2,5 M  \n",
       "..                                      ...      ...  \n",
       "456  Kementerian Agraria dan Tata Ruang/BPN    23 Jt  \n",
       "457  Kementerian Agraria dan Tata Ruang/BPN  10,3 Jt  \n",
       "458  Kementerian Agraria dan Tata Ruang/BPN  11,9 Jt  \n",
       "459  Kementerian Agraria dan Tata Ruang/BPN  31,1 Jt  \n",
       "460  Kementerian Agraria dan Tata Ruang/BPN    64 Jt  \n",
       "\n",
       "[461 rows x 4 columns]"
      ]
     },
     "execution_count": 45,
     "metadata": {},
     "output_type": "execute_result"
    }
   ],
   "source": [
    "df_pencatatannontender"
   ]
  },
  {
   "cell_type": "code",
   "execution_count": 46,
   "id": "2645c464",
   "metadata": {},
   "outputs": [],
   "source": [
    "file_name = f'Swakelola_{day_month_year}.csv'\n",
    "final_path = os.path.join(application_path, file_name)"
   ]
  },
  {
   "cell_type": "code",
   "execution_count": 47,
   "id": "aa99bcdf",
   "metadata": {},
   "outputs": [],
   "source": [
    "df_pencatatannontender.to_csv(final_path)"
   ]
  },
  {
   "cell_type": "markdown",
   "id": "fc26e024",
   "metadata": {},
   "source": [
    "# Pencatatan Pengadaan Darurat"
   ]
  },
  {
   "cell_type": "code",
   "execution_count": 48,
   "id": "991de2b6",
   "metadata": {},
   "outputs": [],
   "source": [
    "website_pengadaandarurat = \"https://lpse.atrbpn.go.id/eproc4/darurat\""
   ]
  },
  {
   "cell_type": "code",
   "execution_count": 49,
   "id": "37f80efb",
   "metadata": {},
   "outputs": [],
   "source": [
    "driver.get(website_pengadaandarurat)"
   ]
  },
  {
   "cell_type": "code",
   "execution_count": 50,
   "id": "ac430b0b",
   "metadata": {},
   "outputs": [],
   "source": [
    "sleep(2)"
   ]
  },
  {
   "cell_type": "code",
   "execution_count": 51,
   "id": "438f6fee",
   "metadata": {},
   "outputs": [],
   "source": [
    "select = Select(driver.find_element(By.NAME, 'tbllelang_length'))\n",
    "select.select_by_visible_text('Semua')"
   ]
  },
  {
   "cell_type": "code",
   "execution_count": 52,
   "id": "36375278",
   "metadata": {},
   "outputs": [],
   "source": [
    "sleep(10)"
   ]
  },
  {
   "cell_type": "code",
   "execution_count": 53,
   "id": "3fc227f7",
   "metadata": {},
   "outputs": [],
   "source": [
    "df_Darurat = pd.read_html(driver.page_source, attrs = {'id': 'tbllelang'})[0]"
   ]
  },
  {
   "cell_type": "code",
   "execution_count": 54,
   "id": "f7dd50f0",
   "metadata": {},
   "outputs": [
    {
     "data": {
      "text/html": [
       "<div>\n",
       "<style scoped>\n",
       "    .dataframe tbody tr th:only-of-type {\n",
       "        vertical-align: middle;\n",
       "    }\n",
       "\n",
       "    .dataframe tbody tr th {\n",
       "        vertical-align: top;\n",
       "    }\n",
       "\n",
       "    .dataframe thead th {\n",
       "        text-align: right;\n",
       "    }\n",
       "</style>\n",
       "<table border=\"1\" class=\"dataframe\">\n",
       "  <thead>\n",
       "    <tr style=\"text-align: right;\">\n",
       "      <th></th>\n",
       "      <th>Kode Paket</th>\n",
       "      <th>Nama Paket</th>\n",
       "      <th>K/L/PD</th>\n",
       "      <th>Pagu</th>\n",
       "    </tr>\n",
       "  </thead>\n",
       "  <tbody>\n",
       "    <tr>\n",
       "      <th>0</th>\n",
       "      <td>No data available in table</td>\n",
       "      <td>No data available in table</td>\n",
       "      <td>No data available in table</td>\n",
       "      <td>No data available in table</td>\n",
       "    </tr>\n",
       "  </tbody>\n",
       "</table>\n",
       "</div>"
      ],
      "text/plain": [
       "                   Kode Paket                  Nama Paket  \\\n",
       "0  No data available in table  No data available in table   \n",
       "\n",
       "                       K/L/PD                        Pagu  \n",
       "0  No data available in table  No data available in table  "
      ]
     },
     "execution_count": 54,
     "metadata": {},
     "output_type": "execute_result"
    }
   ],
   "source": [
    "df_Darurat"
   ]
  },
  {
   "cell_type": "code",
   "execution_count": 55,
   "id": "22b4bf9a",
   "metadata": {},
   "outputs": [],
   "source": [
    "file_name = f'PengadaanDarurat_{day_month_year}.csv'\n",
    "final_path = os.path.join(application_path, file_name)"
   ]
  },
  {
   "cell_type": "code",
   "execution_count": 56,
   "id": "7f29ce24",
   "metadata": {},
   "outputs": [],
   "source": [
    "df_Darurat.to_csv(final_path)"
   ]
  },
  {
   "cell_type": "code",
   "execution_count": 57,
   "id": "935ad79b",
   "metadata": {},
   "outputs": [],
   "source": [
    "sleep(10)"
   ]
  },
  {
   "cell_type": "code",
   "execution_count": 58,
   "id": "7ff6a861",
   "metadata": {},
   "outputs": [],
   "source": [
    "driver.quit()"
   ]
  }
 ],
 "metadata": {
  "kernelspec": {
   "display_name": "Python 3 (ipykernel)",
   "language": "python",
   "name": "python3"
  },
  "language_info": {
   "codemirror_mode": {
    "name": "ipython",
    "version": 3
   },
   "file_extension": ".py",
   "mimetype": "text/x-python",
   "name": "python",
   "nbconvert_exporter": "python",
   "pygments_lexer": "ipython3",
   "version": "3.9.12"
  }
 },
 "nbformat": 4,
 "nbformat_minor": 5
}
